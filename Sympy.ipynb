{
 "cells": [
  {
   "cell_type": "code",
   "execution_count": 1,
   "id": "ae270ab8-56d9-4215-83a2-0d243839c17d",
   "metadata": {},
   "outputs": [],
   "source": [
    "import math\n",
    "import itertools\n",
    "\n",
    "import sympy as sp\n",
    "import numpy as np\n",
    "import matplotlib.pyplot as plt"
   ]
  },
  {
   "cell_type": "code",
   "execution_count": 2,
   "id": "798a3fd7-a78d-4070-b384-176f8622292b",
   "metadata": {},
   "outputs": [],
   "source": [
    "d, r, v, alpha = sp.symbols('d r v ⍺')"
   ]
  },
  {
   "cell_type": "code",
   "execution_count": 3,
   "id": "f9164b1f-8edc-4ad3-b6e7-e2344f8f7d96",
   "metadata": {},
   "outputs": [
    {
     "data": {
      "text/latex": [
       "$\\displaystyle \\operatorname{asin}{\\left(\\frac{d \\sin{\\left(⍺ \\right)}}{r} \\right)}$"
      ],
      "text/plain": [
       "asin(d*sin(⍺)/r)"
      ]
     },
     "execution_count": 3,
     "metadata": {},
     "output_type": "execute_result"
    }
   ],
   "source": [
    "beta = sp.asin(sp.sin(alpha)*d/r)\n",
    "# beta = sp.symbols('β')\n",
    "beta"
   ]
  },
  {
   "cell_type": "code",
   "execution_count": 4,
   "id": "5a54020c-6bc5-406b-a552-4dd0509ff5c0",
   "metadata": {},
   "outputs": [
    {
     "data": {
      "text/latex": [
       "$\\displaystyle \\frac{v \\sin{\\left(⍺ + \\operatorname{asin}{\\left(v \\sin{\\left(⍺ \\right)} \\right)} \\right)}}{2 \\pi}$"
      ],
      "text/plain": [
       "v*sin(⍺ + asin(v*sin(⍺)))/(2*pi)"
      ]
     },
     "execution_count": 4,
     "metadata": {},
     "output_type": "execute_result"
    }
   ],
   "source": [
    "a1_rel = d * r * sp.sin(sp.pi - alpha - beta) / 2\n",
    "a1_rel /= sp.pi * r**2\n",
    "a1_rel = a1_rel.subs(d/r, v)\n",
    "a1_rel"
   ]
  },
  {
   "cell_type": "code",
   "execution_count": 5,
   "id": "73cd937f-e4cd-456d-a09e-12b61003647f",
   "metadata": {},
   "outputs": [
    {
     "data": {
      "text/latex": [
       "$\\displaystyle \\frac{⍺ + \\operatorname{asin}{\\left(v \\sin{\\left(⍺ \\right)} \\right)}}{2 \\pi}$"
      ],
      "text/plain": [
       "(⍺ + asin(v*sin(⍺)))/(2*pi)"
      ]
     },
     "execution_count": 5,
     "metadata": {},
     "output_type": "execute_result"
    }
   ],
   "source": [
    "a2_rel = (alpha + beta)/(2*sp.pi)\n",
    "a2_rel = a2_rel.subs(d/r, v)\n",
    "a2_rel"
   ]
  },
  {
   "cell_type": "code",
   "execution_count": 6,
   "id": "9103da10-b14e-4ad0-80e7-c703f9d3a9b0",
   "metadata": {},
   "outputs": [
    {
     "data": {
      "text/latex": [
       "$\\displaystyle \\frac{v \\sin{\\left(⍺ + \\operatorname{asin}{\\left(v \\sin{\\left(⍺ \\right)} \\right)} \\right)} + ⍺ + \\operatorname{asin}{\\left(v \\sin{\\left(⍺ \\right)} \\right)}}{2 \\pi}$"
      ],
      "text/plain": [
       "(v*sin(⍺ + asin(v*sin(⍺))) + ⍺ + asin(v*sin(⍺)))/(2*pi)"
      ]
     },
     "execution_count": 6,
     "metadata": {},
     "output_type": "execute_result"
    }
   ],
   "source": [
    "at_rel = sp.simplify(a1_rel+a2_rel)\n",
    "at_rel"
   ]
  },
  {
   "cell_type": "code",
   "execution_count": 7,
   "id": "3c4ce3da-9623-437e-8b65-c0602b02bd79",
   "metadata": {},
   "outputs": [
    {
     "data": {
      "text/latex": [
       "$\\displaystyle \\frac{v \\left(v \\cos{\\left(⍺ \\right)} + \\sqrt{- v^{2} \\sin^{2}{\\left(⍺ \\right)} + 1}\\right) \\cos{\\left(⍺ + \\operatorname{asin}{\\left(v \\sin{\\left(⍺ \\right)} \\right)} \\right)} + v \\cos{\\left(⍺ \\right)} + \\sqrt{- v^{2} \\sin^{2}{\\left(⍺ \\right)} + 1}}{2 \\pi \\sqrt{- v^{2} \\sin^{2}{\\left(⍺ \\right)} + 1}}$"
      ],
      "text/plain": [
       "(v*(v*cos(⍺) + sqrt(-v**2*sin(⍺)**2 + 1))*cos(⍺ + asin(v*sin(⍺))) + v*cos(⍺) + sqrt(-v**2*sin(⍺)**2 + 1))/(2*pi*sqrt(-v**2*sin(⍺)**2 + 1))"
      ]
     },
     "execution_count": 7,
     "metadata": {},
     "output_type": "execute_result"
    }
   ],
   "source": [
    "at_rel_diff = sp.diff(at_rel, alpha)\n",
    "at_rel_diff = sp.simplify(at_rel_diff)\n",
    "at_rel_diff"
   ]
  },
  {
   "cell_type": "code",
   "execution_count": 8,
   "id": "891b9650-dbb3-4b9f-8448-d917f4a8fc32",
   "metadata": {},
   "outputs": [
    {
     "data": {
      "text/latex": [
       "$\\displaystyle \\frac{term_{1} + v \\left(term_{1} + v \\cos{\\left(⍺ \\right)}\\right) \\cos{\\left(⍺ + \\operatorname{asin}{\\left(v \\sin{\\left(⍺ \\right)} \\right)} \\right)} + v \\cos{\\left(⍺ \\right)}}{2 \\pi term_{1}}$"
      ],
      "text/plain": [
       "(term1 + v*(term1 + v*cos(⍺))*cos(⍺ + asin(v*sin(⍺))) + v*cos(⍺))/(2*pi*term1)"
      ]
     },
     "execution_count": 8,
     "metadata": {},
     "output_type": "execute_result"
    }
   ],
   "source": [
    "sp.simplify(\n",
    "    at_rel_diff.subs(sp.sqrt(1-(v*sp.sin(alpha))**2), sp.symbols('term1'))\n",
    ")"
   ]
  },
  {
   "cell_type": "code",
   "execution_count": 9,
   "id": "7138ad8a-9314-4601-a11c-5f5eef6d575f",
   "metadata": {},
   "outputs": [],
   "source": [
    "def rel_area_fraction(alpha, v):\n",
    "    term1 = alpha + math.asin(v * math.sin(alpha))\n",
    "    numerator = v * math.sin(term1) + term1\n",
    "    return numerator / (2 * math.pi)\n",
    "def rel_area_fraction_diff(alpha, v):\n",
    "    term1 = v * math.sin(alpha)\n",
    "    term2 = math.sqrt(1 - term1**2)\n",
    "    numerator = (term2 + v * math.cos(alpha)) * (1 + v * math.cos(alpha + math.asin(term1)))\n",
    "    return numerator / (2 * math.pi * term2)"
   ]
  },
  {
   "cell_type": "code",
   "execution_count": 10,
   "id": "152fca2b-bb40-46df-9ff4-af725a458f53",
   "metadata": {},
   "outputs": [],
   "source": [
    "test_alphas = np.linspace(0, math.pi).tolist()\n",
    "test_vs = np.linspace(0, 1).tolist()\n",
    "\n",
    "for test_alpha, test_v in itertools.product(test_alphas, test_vs):\n",
    "    val1 = float(at_rel.subs({v:test_v, alpha: test_alpha}).evalf())\n",
    "    val2 = rel_area_fraction(alpha=test_alpha, v=test_v)\n",
    "    val3 = float(at_rel_diff.subs({v:test_v, alpha: test_alpha}).evalf())\n",
    "    val4 = rel_area_fraction_diff(alpha=test_alpha, v=test_v)\n",
    "    np.testing.assert_almost_equal(val1, val2, err_msg='type: diff')\n",
    "    np.testing.assert_almost_equal(val3, val4, err_msg='type: func')"
   ]
  },
  {
   "cell_type": "code",
   "execution_count": 11,
   "id": "2b3f8779-d75a-431f-8e70-554c3ad4ad57",
   "metadata": {},
   "outputs": [],
   "source": [
    "def solve(func_val, v):\n",
    "    assert func_val < 0.5\n",
    "    alpha = func_val * 2 * math.pi\n",
    "    while(True):\n",
    "        func_val_cur = rel_area_fraction(alpha=alpha, v=v)\n",
    "        # print(f'{alpha:.6f}\\t{func_val:.6f}\\t{func_val_cur:.6f}')\n",
    "        if np.isclose(func_val, func_val_cur):\n",
    "            break\n",
    "        grad = -(func_val_cur-func_val) / rel_area_fraction_diff(alpha=alpha, v=v)\n",
    "        alpha += min(abs(alpha/2), max(grad, -abs(alpha)/2))\n",
    "    return alpha"
   ]
  },
  {
   "cell_type": "code",
   "execution_count": 12,
   "id": "382cb29b-32a3-4040-aa18-2e7b87366f31",
   "metadata": {},
   "outputs": [],
   "source": [
    "def draw_line_at_angle(x0, y0, angle):\n",
    "    plt.plot([x0, x0+math.sin(angle)*(1+v)], [y0, y0+math.cos(angle)*(1+v)], label='Line')"
   ]
  },
  {
   "cell_type": "code",
   "execution_count": 17,
   "id": "5aca1977-34f8-4c89-a5c4-70871e229df9",
   "metadata": {},
   "outputs": [
    {
     "data": {
      "image/png": "[encoded data removed]",
      "text/plain": [
       "<Figure size 640x480 with 1 Axes>"
      ]
     },
     "metadata": {},
     "output_type": "display_data"
    }
   ],
   "source": [
    "v = 0.8\n",
    "angles = [solve(area, v) for area in [0/10, 1/10, 2/10, 3/10, 4/10]]\n",
    "\n",
    "for angle in angles:\n",
    "    draw_line_at_angle(0, -v, angle)\n",
    "    draw_line_at_angle(0, -v, -angle)\n",
    "draw_line_at_angle(0, -v, math.pi)\n",
    "\n",
    "# Draw a circle\n",
    "circle = plt.Circle((0, 0), 1, color='blue', fill=False)\n",
    "plt.gca().add_artist(circle)\n",
    "\n",
    "plt.gca().set_aspect('equal', adjustable='box')\n",
    "\n",
    "# Set limits and show\n",
    "plt.xlim(-1.3, 1.3)\n",
    "plt.ylim(-1.3, 1.3)\n",
    "plt.show()\n"
   ]
  },
  {
   "cell_type": "code",
   "execution_count": null,
   "id": "b6dcc692-ea6e-4f83-96a5-ae5be44bf106",
   "metadata": {},
   "outputs": [],
   "source": []
  },
  {
   "cell_type": "code",
   "execution_count": null,
   "id": "2d1d61a6-d8f3-46c3-9114-dbb2d0c090bb",
   "metadata": {},
   "outputs": [],
   "source": []
  },
  {
   "cell_type": "code",
   "execution_count": null,
   "id": "e22752f3-da64-4762-84cf-0d042d189b04",
   "metadata": {},
   "outputs": [],
   "source": []
  }
 ],
 "metadata": {
  "kernelspec": {
   "display_name": "Python 3 (ipykernel)",
   "language": "python",
   "name": "python3"
  },
  "language_info": {
   "codemirror_mode": {
    "name": "ipython",
    "version": 3
   },
   "file_extension": ".py",
   "mimetype": "text/x-python",
   "name": "python",
   "nbconvert_exporter": "python",
   "pygments_lexer": "ipython3",
   "version": "3.13.0"
  }
 },
 "nbformat": 4,
 "nbformat_minor": 5
}
